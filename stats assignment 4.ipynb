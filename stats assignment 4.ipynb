{
 "cells": [
  {
   "cell_type": "markdown",
   "metadata": {},
   "source": [
    "# Problem Statement 1\n",
    "H0: education level doesn't depend on gender\n",
    "H1: education level do depend on gender"
   ]
  },
  {
   "cell_type": "code",
   "execution_count": 1,
   "metadata": {},
   "outputs": [],
   "source": [
    "\n",
    "table = [[60,54,46,41],\n",
    "        [40,44,53,57]]"
   ]
  },
  {
   "cell_type": "code",
   "execution_count": 2,
   "metadata": {},
   "outputs": [],
   "source": [
    "\n",
    "from scipy import stats"
   ]
  },
  {
   "cell_type": "code",
   "execution_count": 3,
   "metadata": {},
   "outputs": [
    {
     "data": {
      "text/plain": [
       "(8.006066246262538,\n",
       " 0.045886500891747214,\n",
       " 3,\n",
       " array([[50.88607595, 49.86835443, 50.37721519, 49.86835443],\n",
       "        [49.11392405, 48.13164557, 48.62278481, 48.13164557]]))"
      ]
     },
     "execution_count": 3,
     "metadata": {},
     "output_type": "execute_result"
    }
   ],
   "source": [
    "stats.chi2_contingency(table)"
   ]
  },
  {
   "cell_type": "code",
   "execution_count": 4,
   "metadata": {},
   "outputs": [],
   "source": [
    "chi_score,p_value,dof,Expected_table = stats.chi2_contingency(table)"
   ]
  },
  {
   "cell_type": "code",
   "execution_count": 5,
   "metadata": {},
   "outputs": [
    {
     "name": "stdout",
     "output_type": "stream",
     "text": [
      "Chi Value : 8.006066246262538\n",
      "Degree of Freedom:3\n",
      "P Value:0.045886500891747214\n"
     ]
    }
   ],
   "source": [
    "\n",
    "print(\"Chi Value : {}\".format(chi_score))\n",
    "print(\"Degree of Freedom:{}\".format(dof))\n",
    "print(\"P Value:{}\".format(p_value))"
   ]
  },
  {
   "cell_type": "code",
   "execution_count": 6,
   "metadata": {},
   "outputs": [
    {
     "data": {
      "text/plain": [
       "7.814727903251179"
      ]
     },
     "execution_count": 6,
     "metadata": {},
     "output_type": "execute_result"
    }
   ],
   "source": [
    "alpha = 0.05\n",
    "p = 1-alpha\n",
    "critical_value=stats.chi2.ppf(p,dof)\n",
    "critical_value"
   ]
  },
  {
   "cell_type": "code",
   "execution_count": 7,
   "metadata": {},
   "outputs": [
    {
     "name": "stdout",
     "output_type": "stream",
     "text": [
      "Hypothesis assumed rejected\n",
      "Hypothesis rejected as per pvalue\n"
     ]
    }
   ],
   "source": [
    "if abs(chi_score)>critical_value:\n",
    "    print(\"Hypothesis assumed rejected\")\n",
    "else:\n",
    "    print(\"Hypothesis assumed accepted\")\n",
    "\n",
    "if p_value<alpha:\n",
    "    print(\"Hypothesis rejected as per pvalue\")\n",
    "else:\n",
    "    print(\"Hypothesis accepted as  per pvalue\")"
   ]
  },
  {
   "cell_type": "markdown",
   "metadata": {},
   "source": [
    "# Problem statement 2\n",
    "H0: All group have equal mean.\n",
    "H1: Difference in mean of group is significant"
   ]
  },
  {
   "cell_type": "code",
   "execution_count": 8,
   "metadata": {},
   "outputs": [],
   "source": [
    "group_1 = [51,45,33,45,67]\n",
    "group_2 = [23,43,23,43,45]\n",
    "group_3 = [56,76,74,87,56]"
   ]
  },
  {
   "cell_type": "code",
   "execution_count": 9,
   "metadata": {},
   "outputs": [],
   "source": [
    "F_value ,p_value = stats.f_oneway(group_1, group_2, group_3)"
   ]
  },
  {
   "cell_type": "code",
   "execution_count": 10,
   "metadata": {},
   "outputs": [
    {
     "data": {
      "text/plain": [
       "9.747205503009463"
      ]
     },
     "execution_count": 10,
     "metadata": {},
     "output_type": "execute_result"
    }
   ],
   "source": [
    "\n",
    "F_value"
   ]
  },
  {
   "cell_type": "code",
   "execution_count": 11,
   "metadata": {},
   "outputs": [
    {
     "data": {
      "text/plain": [
       "0.0030597541434430556"
      ]
     },
     "execution_count": 11,
     "metadata": {},
     "output_type": "execute_result"
    }
   ],
   "source": [
    "p_value"
   ]
  },
  {
   "cell_type": "code",
   "execution_count": 12,
   "metadata": {},
   "outputs": [],
   "source": [
    "alpha = 0.05\n",
    "p = 1-alpha\n",
    "k=3\n",
    "N = k*len(group_1)\n",
    "dof = N-k #degree of freedom within\n",
    "dfb = k-1 #degree of freedom inbetween\n",
    "critical_value=stats.f.ppf(p, dfb, dof)"
   ]
  },
  {
   "cell_type": "code",
   "execution_count": 13,
   "metadata": {},
   "outputs": [
    {
     "name": "stdout",
     "output_type": "stream",
     "text": [
      "Hypothesis assumed rejected\n",
      "Hypothesis rejected as per pvalue\n"
     ]
    }
   ],
   "source": [
    "if abs(F_value)>critical_value:\n",
    "    print(\"Hypothesis assumed rejected\")\n",
    "else:\n",
    "    print(\"Hypothesis assumed accepted\")\n",
    "\n",
    "if p_value<alpha:\n",
    "    print(\"Hypothesis rejected as per pvalue\")\n",
    "else:\n",
    "    print(\"Hypothesis accepted as  per pvalue\")"
   ]
  },
  {
   "cell_type": "markdown",
   "metadata": {},
   "source": [
    "# Problem Statement 3"
   ]
  },
  {
   "cell_type": "code",
   "execution_count": 14,
   "metadata": {},
   "outputs": [],
   "source": [
    "\n",
    "a=[10,20,30,40,50]\n",
    "b=[5,10,15,20,25]"
   ]
  },
  {
   "cell_type": "code",
   "execution_count": 15,
   "metadata": {},
   "outputs": [],
   "source": [
    "import numpy as np\n",
    "def f_test(a,b):\n",
    "    var_a = (np.std(a,ddof=1))**2\n",
    "    var_b = (np.std(b,ddof=1))**2\n",
    "    return var_a/var_b"
   ]
  },
  {
   "cell_type": "code",
   "execution_count": 16,
   "metadata": {},
   "outputs": [
    {
     "data": {
      "text/plain": [
       "4.0"
      ]
     },
     "execution_count": 16,
     "metadata": {},
     "output_type": "execute_result"
    }
   ],
   "source": [
    "f_test(a,b)"
   ]
  },
  {
   "cell_type": "code",
   "execution_count": null,
   "metadata": {},
   "outputs": [],
   "source": []
  }
 ],
 "metadata": {
  "kernelspec": {
   "display_name": "Python 3",
   "language": "python",
   "name": "python3"
  },
  "language_info": {
   "codemirror_mode": {
    "name": "ipython",
    "version": 3
   },
   "file_extension": ".py",
   "mimetype": "text/x-python",
   "name": "python",
   "nbconvert_exporter": "python",
   "pygments_lexer": "ipython3",
   "version": "3.7.4"
  }
 },
 "nbformat": 4,
 "nbformat_minor": 2
}
